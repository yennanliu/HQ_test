{
 "cells": [
  {
   "cell_type": "markdown",
   "metadata": {},
   "source": [
    "# Possible outliers are in \n",
    "\n",
    "# 1. offer_valid_from , offer_valid_to \n",
    "# 2. available_cnt\n",
    "# 3. sellings_price\n",
    "# 4. valid_offer_flag\n",
    "# 5. breakfast_included_flag"
   ]
  },
  {
   "cell_type": "code",
   "execution_count": 38,
   "metadata": {
    "collapsed": false
   },
   "outputs": [
    {
     "name": "stdout",
     "output_type": "stream",
     "text": [
      "Populating the interactive namespace from numpy and matplotlib\n"
     ]
    }
   ],
   "source": [
    "# import libraries \n",
    "\n",
    "import pandas as pd, numpy as numpy\n",
    "import matplotlib.pyplot as plt\n",
    "import seaborn as sns\n",
    "%pylab inline\n",
    "from datetime import datetime"
   ]
  },
  {
   "cell_type": "code",
   "execution_count": 21,
   "metadata": {
    "collapsed": false
   },
   "outputs": [],
   "source": [
    "df = pd.read_csv('offer.csv')"
   ]
  },
  {
   "cell_type": "code",
   "execution_count": 23,
   "metadata": {
    "collapsed": false
   },
   "outputs": [
    {
     "data": {
      "text/html": [
       "<div>\n",
       "<table border=\"1\" class=\"dataframe\">\n",
       "  <thead>\n",
       "    <tr style=\"text-align: right;\">\n",
       "      <th></th>\n",
       "      <th>id</th>\n",
       "      <th>hotel_id</th>\n",
       "      <th>currency_id</th>\n",
       "      <th>source_system_code</th>\n",
       "      <th>available_cnt</th>\n",
       "      <th>sellings_price</th>\n",
       "      <th>checkin_date</th>\n",
       "      <th>checkout_date</th>\n",
       "      <th>valid_offer_flag</th>\n",
       "      <th>offer_valid_from</th>\n",
       "      <th>offer_valid_to</th>\n",
       "      <th>breakfast_included_flag</th>\n",
       "      <th>insert_datetime</th>\n",
       "    </tr>\n",
       "  </thead>\n",
       "  <tbody>\n",
       "    <tr>\n",
       "      <th>0</th>\n",
       "      <td>6</td>\n",
       "      <td>11.0</td>\n",
       "      <td>1.0</td>\n",
       "      <td>e0309fe08002dddd49518539a92118dc</td>\n",
       "      <td>2.0</td>\n",
       "      <td>99.0</td>\n",
       "      <td>2012-11-21</td>\n",
       "      <td>2012-11-22</td>\n",
       "      <td>-1</td>\n",
       "      <td>1900-01-01 00:00:00</td>\n",
       "      <td>2999-12-31 00:00:00</td>\n",
       "      <td>-1</td>\n",
       "      <td>2012-11-20 17:09:09</td>\n",
       "    </tr>\n",
       "    <tr>\n",
       "      <th>1</th>\n",
       "      <td>8</td>\n",
       "      <td>11.0</td>\n",
       "      <td>1.0</td>\n",
       "      <td>e0309fe08002dddd49518539a92118dc</td>\n",
       "      <td>5.0</td>\n",
       "      <td>120.0</td>\n",
       "      <td>2012-11-21</td>\n",
       "      <td>2012-11-22</td>\n",
       "      <td>-1</td>\n",
       "      <td>1900-01-01 00:00:00</td>\n",
       "      <td>2999-12-31 00:00:00</td>\n",
       "      <td>-1</td>\n",
       "      <td>2012-11-20 17:09:58</td>\n",
       "    </tr>\n",
       "    <tr>\n",
       "      <th>2</th>\n",
       "      <td>9</td>\n",
       "      <td>11.0</td>\n",
       "      <td>1.0</td>\n",
       "      <td>e0309fe08002dddd49518539a92118dc</td>\n",
       "      <td>8.0</td>\n",
       "      <td>120.0</td>\n",
       "      <td>2012-11-20</td>\n",
       "      <td>2012-11-21</td>\n",
       "      <td>-1</td>\n",
       "      <td>1900-01-01 00:00:00</td>\n",
       "      <td>2999-12-31 00:00:00</td>\n",
       "      <td>-1</td>\n",
       "      <td>2012-11-20 17:11:36</td>\n",
       "    </tr>\n",
       "  </tbody>\n",
       "</table>\n",
       "</div>"
      ],
      "text/plain": [
       "   id  hotel_id  currency_id                source_system_code  available_cnt  \\\n",
       "0   6      11.0          1.0  e0309fe08002dddd49518539a92118dc            2.0   \n",
       "1   8      11.0          1.0  e0309fe08002dddd49518539a92118dc            5.0   \n",
       "2   9      11.0          1.0  e0309fe08002dddd49518539a92118dc            8.0   \n",
       "\n",
       "   sellings_price checkin_date checkout_date  valid_offer_flag  \\\n",
       "0            99.0   2012-11-21    2012-11-22                -1   \n",
       "1           120.0   2012-11-21    2012-11-22                -1   \n",
       "2           120.0   2012-11-20    2012-11-21                -1   \n",
       "\n",
       "      offer_valid_from       offer_valid_to  breakfast_included_flag  \\\n",
       "0  1900-01-01 00:00:00  2999-12-31 00:00:00                       -1   \n",
       "1  1900-01-01 00:00:00  2999-12-31 00:00:00                       -1   \n",
       "2  1900-01-01 00:00:00  2999-12-31 00:00:00                       -1   \n",
       "\n",
       "       insert_datetime  \n",
       "0  2012-11-20 17:09:09  \n",
       "1  2012-11-20 17:09:58  \n",
       "2  2012-11-20 17:11:36  "
      ]
     },
     "execution_count": 23,
     "metadata": {},
     "output_type": "execute_result"
    }
   ],
   "source": [
    "df.columns = ['id',\n",
    "\t\t\t'hotel_id',\n",
    "\t\t\t'currency_id',\n",
    "\t\t\t'source_system_code', \n",
    "\t\t\t'available_cnt', \n",
    "\t\t\t'sellings_price',\n",
    "\t\t\t'checkin_date',\n",
    "\t\t\t'checkout_date',\n",
    "\t\t\t'valid_offer_flag', \n",
    "\t\t\t'offer_valid_from',\n",
    "\t\t\t'offer_valid_to', \n",
    "\t\t\t'breakfast_included_flag', \n",
    "\t\t\t'insert_datetime' ]\n",
    "df.head(3)"
   ]
  },
  {
   "cell_type": "code",
   "execution_count": 91,
   "metadata": {
    "collapsed": false
   },
   "outputs": [
    {
     "name": "stdout",
     "output_type": "stream",
     "text": [
      "<class 'pandas.core.frame.DataFrame'>\n",
      "RangeIndex: 5290818 entries, 0 to 5290817\n",
      "Data columns (total 15 columns):\n",
      "id                         int64\n",
      "hotel_id                   float64\n",
      "currency_id                float64\n",
      "source_system_code         object\n",
      "available_cnt              float64\n",
      "sellings_price             float64\n",
      "checkin_date               object\n",
      "checkout_date              object\n",
      "valid_offer_flag           int64\n",
      "offer_valid_from           object\n",
      "offer_valid_to             object\n",
      "breakfast_included_flag    int64\n",
      "insert_datetime            object\n",
      "period_valid               int64\n",
      "valid_period               int64\n",
      "dtypes: float64(4), int64(5), object(6)\n",
      "memory usage: 605.5+ MB\n"
     ]
    }
   ],
   "source": [
    "df.info()"
   ]
  },
  {
   "cell_type": "markdown",
   "metadata": {},
   "source": [
    "# 1. offer_valid_from , offer_valid_to"
   ]
  },
  {
   "cell_type": "code",
   "execution_count": 26,
   "metadata": {
    "collapsed": false
   },
   "outputs": [
    {
     "data": {
      "text/html": [
       "<div>\n",
       "<table border=\"1\" class=\"dataframe\">\n",
       "  <thead>\n",
       "    <tr style=\"text-align: right;\">\n",
       "      <th></th>\n",
       "      <th>offer_valid_from</th>\n",
       "      <th>offer_valid_to</th>\n",
       "    </tr>\n",
       "  </thead>\n",
       "  <tbody>\n",
       "    <tr>\n",
       "      <th>0</th>\n",
       "      <td>1900-01-01 00:00:00</td>\n",
       "      <td>2999-12-31 00:00:00</td>\n",
       "    </tr>\n",
       "    <tr>\n",
       "      <th>1</th>\n",
       "      <td>1900-01-01 00:00:00</td>\n",
       "      <td>2999-12-31 00:00:00</td>\n",
       "    </tr>\n",
       "    <tr>\n",
       "      <th>2</th>\n",
       "      <td>1900-01-01 00:00:00</td>\n",
       "      <td>2999-12-31 00:00:00</td>\n",
       "    </tr>\n",
       "  </tbody>\n",
       "</table>\n",
       "</div>"
      ],
      "text/plain": [
       "      offer_valid_from       offer_valid_to\n",
       "0  1900-01-01 00:00:00  2999-12-31 00:00:00\n",
       "1  1900-01-01 00:00:00  2999-12-31 00:00:00\n",
       "2  1900-01-01 00:00:00  2999-12-31 00:00:00"
      ]
     },
     "execution_count": 26,
     "metadata": {},
     "output_type": "execute_result"
    }
   ],
   "source": [
    "df[['offer_valid_from','offer_valid_to']].head(3)"
   ]
  },
  {
   "cell_type": "code",
   "execution_count": 89,
   "metadata": {
    "collapsed": false
   },
   "outputs": [],
   "source": [
    "# only get year part from offer_valid_to, and offer_valid_from, then get the difference \n",
    "df['valid_period'] = df['offer_valid_to'].apply(lambda x: int((str(x))[:4])) - df['offer_valid_from'].apply(lambda x: int((str(x))[:4]))"
   ]
  },
  {
   "cell_type": "code",
   "execution_count": 88,
   "metadata": {
    "collapsed": false
   },
   "outputs": [
    {
     "data": {
      "text/plain": [
       "period_valid\n",
       "-2             2\n",
       "-1             1\n",
       " 0       5290628\n",
       " 1            78\n",
       " 985          24\n",
       " 986          32\n",
       " 1099         53\n",
       "Name: id, dtype: int64"
      ]
     },
     "execution_count": 88,
     "metadata": {},
     "output_type": "execute_result"
    }
   ],
   "source": [
    "df.groupby('valid_period').count()['id']"
   ]
  },
  {
   "cell_type": "markdown",
   "metadata": {},
   "source": [
    "### Most valid_period are within 1 year, but some of them are unbelievable long ( 985, 986 1099 year), and minus so I recognize them as outliers here "
   ]
  },
  {
   "cell_type": "markdown",
   "metadata": {},
   "source": [
    "# 2. available_cnt"
   ]
  },
  {
   "cell_type": "code",
   "execution_count": 95,
   "metadata": {
    "collapsed": false
   },
   "outputs": [
    {
     "data": {
      "text/plain": [
       "available_cnt\n",
       "-2.0            1\n",
       "-1.0           10\n",
       " 0.0       351993\n",
       " 1.0      3550603\n",
       " 2.0       143582\n",
       " 3.0        96801\n",
       " 4.0        69179\n",
       " 5.0       153525\n",
       " 6.0        29180\n",
       " 7.0        32191\n",
       " 8.0        39912\n",
       " 9.0        50342\n",
       " 10.0      128249\n",
       " 11.0        8179\n",
       " 12.0        8761\n",
       " 13.0        7808\n",
       " 14.0       10662\n",
       " 15.0       14185\n",
       " 16.0        8263\n",
       " 17.0        8671\n",
       " 18.0       12639\n",
       " 19.0       24135\n",
       " 20.0       35452\n",
       " 21.0        4205\n",
       " 22.0        4739\n",
       " 23.0        6336\n",
       " 24.0        6980\n",
       " 25.0        5321\n",
       " 26.0        3974\n",
       " 27.0        3871\n",
       "           ...   \n",
       " 288.0         12\n",
       " 289.0         12\n",
       " 290.0         15\n",
       " 291.0         18\n",
       " 292.0         20\n",
       " 293.0         21\n",
       " 294.0         22\n",
       " 295.0         19\n",
       " 296.0         26\n",
       " 297.0         48\n",
       " 298.0         28\n",
       " 299.0        107\n",
       " 300.0         36\n",
       " 975.0          6\n",
       " 980.0          3\n",
       " 981.0          3\n",
       " 986.0          2\n",
       " 987.0          2\n",
       " 988.0          1\n",
       " 989.0        387\n",
       " 990.0        344\n",
       " 991.0        517\n",
       " 992.0        144\n",
       " 993.0        170\n",
       " 994.0          9\n",
       " 995.0        261\n",
       " 996.0        250\n",
       " 997.0        855\n",
       " 998.0        650\n",
       " 999.0       8484\n",
       "Name: id, dtype: int64"
      ]
     },
     "execution_count": 95,
     "metadata": {},
     "output_type": "execute_result"
    }
   ],
   "source": [
    "df.groupby('available_cnt').count()['id']"
   ]
  },
  {
   "cell_type": "markdown",
   "metadata": {},
   "source": [
    "### available_cnt should > 0 since this means Number of rooms available"
   ]
  },
  {
   "cell_type": "markdown",
   "metadata": {},
   "source": [
    "# 3. sellings_price"
   ]
  },
  {
   "cell_type": "code",
   "execution_count": 97,
   "metadata": {
    "collapsed": false
   },
   "outputs": [
    {
     "data": {
      "text/plain": [
       "sellings_price\n",
       "-1.900000e+06      1\n",
       "-6.801984e+04      3\n",
       "-6.551633e+04      4\n",
       "-6.532770e+04      3\n",
       "-6.495373e+04      1\n",
       "-6.458964e+04      1\n",
       "-6.174810e+04      4\n",
       "-6.114200e+04      5\n",
       "-5.833646e+04      1\n",
       "-5.816850e+04      1\n",
       "-5.743898e+04      1\n",
       "-5.709500e+04      1\n",
       "-5.460482e+04      3\n",
       "-5.219678e+04      1\n",
       "-5.213600e+04     11\n",
       "-4.936162e+04      3\n",
       "-4.921950e+04      1\n",
       "-4.634100e+04      1\n",
       "-4.433411e+04      1\n",
       "-4.421290e+04      1\n",
       "-4.409728e+04      1\n",
       "-4.397672e+04      1\n",
       "-4.015060e+04      1\n",
       "-3.959756e+04      1\n",
       "-3.951000e+04      2\n",
       "-3.937560e+04      1\n",
       "-3.930035e+04      1\n",
       "-3.731500e+04      2\n",
       "-3.687930e+04      1\n",
       "-3.684408e+04      1\n",
       "                ... \n",
       " 4.118718e+08      1\n",
       " 4.122626e+08      1\n",
       " 4.142163e+08      7\n",
       " 4.374440e+08      1\n",
       " 4.376324e+08      1\n",
       " 4.395024e+08      1\n",
       " 4.564879e+08      6\n",
       " 6.495658e+08      2\n",
       " 7.035089e+08     10\n",
       " 7.042129e+08      2\n",
       " 7.507432e+08      1\n",
       " 8.695436e+08      2\n",
       " 8.926127e+08      1\n",
       " 2.147480e+09      4\n",
       " 2.147484e+09     62\n",
       " 3.189656e+09      1\n",
       " 4.014286e+09      2\n",
       " 4.027365e+09      5\n",
       " 4.146946e+09      2\n",
       " 4.160457e+09      7\n",
       " 1.355400e+10    879\n",
       " 1.356050e+10     13\n",
       " 1.361050e+10    327\n",
       " 1.365500e+10    739\n",
       " 1.367500e+10    236\n",
       " 2.236400e+10    180\n",
       " 2.239000e+10    196\n",
       " 2.240250e+10      2\n",
       " 2.240500e+10     62\n",
       " 2.242750e+10    126\n",
       "Name: id, dtype: int64"
      ]
     },
     "execution_count": 97,
     "metadata": {},
     "output_type": "execute_result"
    }
   ],
   "source": [
    "df.groupby('sellings_price').count()['id']"
   ]
  },
  {
   "cell_type": "markdown",
   "metadata": {},
   "source": [
    "###  sellings_price should > 0 since these are prices "
   ]
  },
  {
   "cell_type": "markdown",
   "metadata": {},
   "source": [
    "# 4. valid_offer_flag"
   ]
  },
  {
   "cell_type": "code",
   "execution_count": 98,
   "metadata": {
    "collapsed": false
   },
   "outputs": [
    {
     "data": {
      "text/plain": [
       "valid_offer_flag\n",
       "-1      88412\n",
       " 0    1828518\n",
       " 1    3373888\n",
       "Name: id, dtype: int64"
      ]
     },
     "execution_count": 98,
     "metadata": {},
     "output_type": "execute_result"
    }
   ],
   "source": [
    "df.groupby('valid_offer_flag').count()['id']"
   ]
  },
  {
   "cell_type": "markdown",
   "metadata": {},
   "source": [
    "### Guess  valid_offer_flag only has status 1 & 0 (yes or no)"
   ]
  },
  {
   "cell_type": "markdown",
   "metadata": {},
   "source": [
    "# 5. breakfast_included_flag"
   ]
  },
  {
   "cell_type": "code",
   "execution_count": 99,
   "metadata": {
    "collapsed": false
   },
   "outputs": [
    {
     "data": {
      "text/plain": [
       "breakfast_included_flag\n",
       "-1      39434\n",
       " 0    3922992\n",
       " 1    1328392\n",
       "Name: id, dtype: int64"
      ]
     },
     "execution_count": 99,
     "metadata": {},
     "output_type": "execute_result"
    }
   ],
   "source": [
    "df.groupby('breakfast_included_flag').count()['id']"
   ]
  },
  {
   "cell_type": "markdown",
   "metadata": {},
   "source": [
    "###  Guess breakfast_included_flag only has status 1 & 0 (yes or no)"
   ]
  }
 ],
 "metadata": {
  "kernelspec": {
   "display_name": "Python 3",
   "language": "python",
   "name": "python3"
  },
  "language_info": {
   "codemirror_mode": {
    "name": "ipython",
    "version": 3
   },
   "file_extension": ".py",
   "mimetype": "text/x-python",
   "name": "python",
   "nbconvert_exporter": "python",
   "pygments_lexer": "ipython3",
   "version": "3.4.4"
  }
 },
 "nbformat": 4,
 "nbformat_minor": 0
}
